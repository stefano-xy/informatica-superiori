{
    "cells": [
        {
            "cell_type": "markdown",
            "metadata": {
                "id": "TxUQyst1XfD6"
            },
            "source": [
                "# Esercizio 1"
            ]
        },
        {
            "cell_type": "code",
            "execution_count": null,
            "metadata": {
                "id": "np-G7XF-Xbzs"
            },
            "outputs": [],
            "source": [
                "print(\"Inserisci un numero\")\n",
                "n = int(input())\n",
                "i = 0\n",
                "while i <= n:\n",
                "  print(i)\n",
                "  i = i + 1"
            ]
        },
        {
            "cell_type": "markdown",
            "metadata": {
                "id": "aKEcIJ4xXiOd"
            },
            "source": [
                "# Esercizio 2"
            ]
        },
        {
            "cell_type": "code",
            "execution_count": null,
            "metadata": {
                "id": "cQZg_Xp-XqFR"
            },
            "outputs": [],
            "source": [
                "i = 0\n",
                "etamax = 0\n",
                "while i < 5:\n",
                "  print(\"Come ti chiami?\")\n",
                "  nome = input()\n",
                "  print(\"Quanti anni hai?\")\n",
                "  eta = int(input())\n",
                "  if eta > etamax:\n",
                "    etamax = eta\n",
                "    nomemax = nome\n",
                "  i = i + 1\n",
                "print(\"La persone più grande si chiama \", nomemax, \" e ha \", etamax, \" anni\")"
            ]
        },
        {
            "cell_type": "markdown",
            "metadata": {
                "id": "HUd3zDGiXmNu"
            },
            "source": [
                "# Esercizio 3"
            ]
        },
        {
            "cell_type": "code",
            "execution_count": null,
            "metadata": {
                "id": "W-2EoFBrXqz4"
            },
            "outputs": [],
            "source": [
                "i = 0\n",
                "giovanni = 0\n",
                "while i < 10:\n",
                "  print(\"Come ti chiami?\")\n",
                "  nome = input()\n",
                "  if nome == \"Giovanni\":\n",
                "    giovanni = giovanni + 1\n",
                "  i = i + 1\n",
                "print(giovanni, \" persone si chiamano Giovanni\")"
            ]
        }
    ],
    "metadata": {
        "colab": {
            "authorship_tag": "ABX9TyPcwXo3zSXz25WLWKKd2goJ",
            "name": "esercitazione.ipynb",
            "provenance": []
        },
        "kernelspec": {
            "display_name": "Python 3.9.2 64-bit",
            "language": "python",
            "name": "python3"
        },
        "language_info": {
            "name": "python",
            "version": "3.9.2"
        },
        "vscode": {
            "interpreter": {
                "hash": "31f2aee4e71d21fbe5cf8b01ff0e069b9275f58929596ceb00d14d90e3e16cd6"
            }
        }
    },
    "nbformat": 4,
    "nbformat_minor": 0
}
